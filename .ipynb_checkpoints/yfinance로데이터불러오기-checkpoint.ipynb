{
 "cells": [
  {
   "cell_type": "code",
   "execution_count": 2,
   "metadata": {},
   "outputs": [
    {
     "name": "stdout",
     "output_type": "stream",
     "text": [
      "Note: you may need to restart the kernel to use updated packages.\n"
     ]
    },
    {
     "name": "stderr",
     "output_type": "stream",
     "text": [
      "ERROR: Could not find a version that satisfies the requirement jupytertext\n",
      "ERROR: No matching distribution found for jupytertext\n"
     ]
    }
   ],
   "source": [
    "pip install jupytertext\n"
   ]
  },
  {
   "cell_type": "code",
   "execution_count": 28,
   "metadata": {},
   "outputs": [],
   "source": [
    "from pandas_datareader import data as pdr\n",
    "import yfinance as yf\n",
    "yf.pdr_override()"
   ]
  },
  {
   "cell_type": "code",
   "execution_count": 29,
   "metadata": {},
   "outputs": [
    {
     "name": "stdout",
     "output_type": "stream",
     "text": [
      "[*********************100%***********************]  1 of 1 completed\n",
      "[*********************100%***********************]  1 of 1 completed\n"
     ]
    }
   ],
   "source": [
    "sec=pdr.get_data_yahoo('005930.KS',start='2019-04-11')\n",
    "msft=pdr.get_data_yahoo('MSFT',start='2019-04-11')"
   ]
  },
  {
   "cell_type": "code",
   "execution_count": 30,
   "metadata": {},
   "outputs": [
    {
     "data": {
      "text/html": [
       "<div>\n",
       "<style scoped>\n",
       "    .dataframe tbody tr th:only-of-type {\n",
       "        vertical-align: middle;\n",
       "    }\n",
       "\n",
       "    .dataframe tbody tr th {\n",
       "        vertical-align: top;\n",
       "    }\n",
       "\n",
       "    .dataframe thead th {\n",
       "        text-align: right;\n",
       "    }\n",
       "</style>\n",
       "<table border=\"1\" class=\"dataframe\">\n",
       "  <thead>\n",
       "    <tr style=\"text-align: right;\">\n",
       "      <th></th>\n",
       "      <th>Open</th>\n",
       "      <th>High</th>\n",
       "      <th>Low</th>\n",
       "      <th>Close</th>\n",
       "      <th>Adj Close</th>\n",
       "      <th>Volume</th>\n",
       "    </tr>\n",
       "    <tr>\n",
       "      <th>Date</th>\n",
       "      <th></th>\n",
       "      <th></th>\n",
       "      <th></th>\n",
       "      <th></th>\n",
       "      <th></th>\n",
       "      <th></th>\n",
       "    </tr>\n",
       "  </thead>\n",
       "  <tbody>\n",
       "    <tr>\n",
       "      <th>2019-04-11</th>\n",
       "      <td>46700.0</td>\n",
       "      <td>46800.0</td>\n",
       "      <td>46150.0</td>\n",
       "      <td>46250.0</td>\n",
       "      <td>43278.046875</td>\n",
       "      <td>13697399</td>\n",
       "    </tr>\n",
       "    <tr>\n",
       "      <th>2019-04-12</th>\n",
       "      <td>46050.0</td>\n",
       "      <td>46900.0</td>\n",
       "      <td>46000.0</td>\n",
       "      <td>46850.0</td>\n",
       "      <td>43839.496094</td>\n",
       "      <td>7668936</td>\n",
       "    </tr>\n",
       "    <tr>\n",
       "      <th>2019-04-15</th>\n",
       "      <td>47150.0</td>\n",
       "      <td>47500.0</td>\n",
       "      <td>47000.0</td>\n",
       "      <td>47050.0</td>\n",
       "      <td>44026.640625</td>\n",
       "      <td>8733019</td>\n",
       "    </tr>\n",
       "    <tr>\n",
       "      <th>2019-04-16</th>\n",
       "      <td>47400.0</td>\n",
       "      <td>47400.0</td>\n",
       "      <td>46800.0</td>\n",
       "      <td>47250.0</td>\n",
       "      <td>44213.796875</td>\n",
       "      <td>7730881</td>\n",
       "    </tr>\n",
       "    <tr>\n",
       "      <th>2019-04-17</th>\n",
       "      <td>47300.0</td>\n",
       "      <td>47600.0</td>\n",
       "      <td>47000.0</td>\n",
       "      <td>47050.0</td>\n",
       "      <td>44026.640625</td>\n",
       "      <td>5513658</td>\n",
       "    </tr>\n",
       "  </tbody>\n",
       "</table>\n",
       "</div>"
      ],
      "text/plain": [
       "               Open     High      Low    Close     Adj Close    Volume\n",
       "Date                                                                  \n",
       "2019-04-11  46700.0  46800.0  46150.0  46250.0  43278.046875  13697399\n",
       "2019-04-12  46050.0  46900.0  46000.0  46850.0  43839.496094   7668936\n",
       "2019-04-15  47150.0  47500.0  47000.0  47050.0  44026.640625   8733019\n",
       "2019-04-16  47400.0  47400.0  46800.0  47250.0  44213.796875   7730881\n",
       "2019-04-17  47300.0  47600.0  47000.0  47050.0  44026.640625   5513658"
      ]
     },
     "execution_count": 30,
     "metadata": {},
     "output_type": "execute_result"
    }
   ],
   "source": [
    "sec.head()"
   ]
  },
  {
   "cell_type": "code",
   "execution_count": 31,
   "metadata": {},
   "outputs": [
    {
     "data": {
      "text/html": [
       "<div>\n",
       "<style scoped>\n",
       "    .dataframe tbody tr th:only-of-type {\n",
       "        vertical-align: middle;\n",
       "    }\n",
       "\n",
       "    .dataframe tbody tr th {\n",
       "        vertical-align: top;\n",
       "    }\n",
       "\n",
       "    .dataframe thead th {\n",
       "        text-align: right;\n",
       "    }\n",
       "</style>\n",
       "<table border=\"1\" class=\"dataframe\">\n",
       "  <thead>\n",
       "    <tr style=\"text-align: right;\">\n",
       "      <th></th>\n",
       "      <th>Open</th>\n",
       "      <th>High</th>\n",
       "      <th>Low</th>\n",
       "      <th>Close</th>\n",
       "      <th>Adj Close</th>\n",
       "      <th>Volume</th>\n",
       "    </tr>\n",
       "    <tr>\n",
       "      <th>Date</th>\n",
       "      <th></th>\n",
       "      <th></th>\n",
       "      <th></th>\n",
       "      <th></th>\n",
       "      <th></th>\n",
       "      <th></th>\n",
       "    </tr>\n",
       "  </thead>\n",
       "  <tbody>\n",
       "    <tr>\n",
       "      <th>2019-04-10</th>\n",
       "      <td>119.760002</td>\n",
       "      <td>120.349998</td>\n",
       "      <td>119.540001</td>\n",
       "      <td>120.190002</td>\n",
       "      <td>117.427277</td>\n",
       "      <td>16477200</td>\n",
       "    </tr>\n",
       "    <tr>\n",
       "      <th>2019-04-11</th>\n",
       "      <td>120.540001</td>\n",
       "      <td>120.849998</td>\n",
       "      <td>119.919998</td>\n",
       "      <td>120.330002</td>\n",
       "      <td>117.564056</td>\n",
       "      <td>14209100</td>\n",
       "    </tr>\n",
       "    <tr>\n",
       "      <th>2019-04-12</th>\n",
       "      <td>120.639999</td>\n",
       "      <td>120.980003</td>\n",
       "      <td>120.370003</td>\n",
       "      <td>120.949997</td>\n",
       "      <td>118.169792</td>\n",
       "      <td>19745100</td>\n",
       "    </tr>\n",
       "    <tr>\n",
       "      <th>2019-04-15</th>\n",
       "      <td>120.940002</td>\n",
       "      <td>121.580002</td>\n",
       "      <td>120.570000</td>\n",
       "      <td>121.050003</td>\n",
       "      <td>118.267502</td>\n",
       "      <td>15792600</td>\n",
       "    </tr>\n",
       "    <tr>\n",
       "      <th>2019-04-16</th>\n",
       "      <td>121.639999</td>\n",
       "      <td>121.650002</td>\n",
       "      <td>120.099998</td>\n",
       "      <td>120.769997</td>\n",
       "      <td>117.993942</td>\n",
       "      <td>14071800</td>\n",
       "    </tr>\n",
       "  </tbody>\n",
       "</table>\n",
       "</div>"
      ],
      "text/plain": [
       "                  Open        High         Low       Close   Adj Close  \\\n",
       "Date                                                                     \n",
       "2019-04-10  119.760002  120.349998  119.540001  120.190002  117.427277   \n",
       "2019-04-11  120.540001  120.849998  119.919998  120.330002  117.564056   \n",
       "2019-04-12  120.639999  120.980003  120.370003  120.949997  118.169792   \n",
       "2019-04-15  120.940002  121.580002  120.570000  121.050003  118.267502   \n",
       "2019-04-16  121.639999  121.650002  120.099998  120.769997  117.993942   \n",
       "\n",
       "              Volume  \n",
       "Date                  \n",
       "2019-04-10  16477200  \n",
       "2019-04-11  14209100  \n",
       "2019-04-12  19745100  \n",
       "2019-04-15  15792600  \n",
       "2019-04-16  14071800  "
      ]
     },
     "execution_count": 31,
     "metadata": {},
     "output_type": "execute_result"
    }
   ],
   "source": [
    "msft.head()"
   ]
  },
  {
   "cell_type": "code",
   "execution_count": 32,
   "metadata": {},
   "outputs": [],
   "source": [
    "import matplotlib.pyplot as plt\n",
    "import matplotlib as mpl\n",
    "import matplotlib.pyplot as plt\n",
    "import matplotlib.font_manager as fm\n",
    "\n",
    "#한글폰트 적용\n",
    "path = 'C:/Windows/Fonts/gulim.ttc'\n",
    "font_name = fm.FontProperties(fname=path, size=50).get_name()\n",
    "plt.rc('font', family=font_name)"
   ]
  },
  {
   "cell_type": "code",
   "execution_count": 33,
   "metadata": {},
   "outputs": [
    {
     "data": {
      "text/plain": [
       "<matplotlib.legend.Legend at 0x1943f7f9190>"
      ]
     },
     "execution_count": 33,
     "metadata": {},
     "output_type": "execute_result"
    },
    {
     "data": {
      "image/png": "[encoded data removed]",
      "text/plain": [
       "<Figure size 432x288 with 1 Axes>"
      ]
     },
     "metadata": {
      "needs_background": "light"
     },
     "output_type": "display_data"
    }
   ],
   "source": [
    "# plt.plot(range(50), data, 'r')\n",
    "# plt.title('시간별 가격 추이', fontproperties=fontprop)\n",
    "# plt.ylabel('주식 가격', fontproperties=fontprop)\n",
    "# plt.xlabel('시간(분)', fontproperties=fontprop)\n",
    "# plt.show()\n",
    "\n",
    "plt.plot(sec.index, sec.Close, 'b', label='삼성전자')\n",
    "plt.plot(msft.index, msft.Close, 'r--', label='Microsoft')\n",
    "plt.legend(loc='best')"
   ]
  },
  {
   "cell_type": "code",
   "execution_count": 42,
   "metadata": {},
   "outputs": [
    {
     "name": "stdout",
     "output_type": "stream",
     "text": [
      "Date\n",
      "2019-04-11        NaN\n",
      "2019-04-12    46250.0\n",
      "2019-04-15    46850.0\n",
      "2019-04-16    47050.0\n",
      "2019-04-17    47250.0\n",
      "Name: Close, dtype: float64\n"
     ]
    }
   ],
   "source": [
    "# shift?\n",
    "type(sec['Close'])\n",
    "sec['Close'].shift(1).head()  #데이터를 1만큼 lag"
   ]
  },
  {
   "cell_type": "code",
   "execution_count": 35,
   "metadata": {},
   "outputs": [
    {
     "data": {
      "text/plain": [
       "Date\n",
       "2019-04-11         NaN\n",
       "2019-04-12    1.297297\n",
       "2019-04-15    0.426894\n",
       "2019-04-16    0.425080\n",
       "2019-04-17   -0.423280\n",
       "Name: Close, dtype: float64"
      ]
     },
     "execution_count": 35,
     "metadata": {},
     "output_type": "execute_result"
    }
   ],
   "source": [
    "#shift활용하여 수익률로 표현\n",
    "sec_dpc=(sec['Close']/sec['Close'].shift(1)-1)*100\n",
    "sec_dpc.head()"
   ]
  },
  {
   "cell_type": "code",
   "execution_count": 36,
   "metadata": {},
   "outputs": [
    {
     "data": {
      "text/plain": [
       "Date\n",
       "2019-04-11    0.000000\n",
       "2019-04-12    1.297297\n",
       "2019-04-15    0.426894\n",
       "2019-04-16    0.425080\n",
       "2019-04-17   -0.423280\n",
       "Name: Close, dtype: float64"
      ]
     },
     "execution_count": 36,
     "metadata": {},
     "output_type": "execute_result"
    }
   ],
   "source": [
    "sec_dpc.iloc[0]=0\n",
    "sec_dpc.head()"
   ]
  },
  {
   "cell_type": "code",
   "execution_count": 37,
   "metadata": {},
   "outputs": [
    {
     "data": {
      "image/png": "[encoded data removed]",
      "text/plain": [
       "<Figure size 432x288 with 1 Axes>"
      ]
     },
     "metadata": {
      "needs_background": "light"
     },
     "output_type": "display_data"
    }
   ],
   "source": [
    "plt.hist(sec_dpc, bins=20)\n",
    "plt.grid(True)\n",
    "\n",
    "#삼성전자의 수익률 분포 정규분포 형태를 띤다"
   ]
  },
  {
   "cell_type": "code",
   "execution_count": 38,
   "metadata": {},
   "outputs": [
    {
     "data": {
      "text/plain": [
       "Date\n",
       "2019-04-11     0.000000\n",
       "2019-04-12     1.297297\n",
       "2019-04-15     1.724192\n",
       "2019-04-16     2.149271\n",
       "2019-04-17     1.725991\n",
       "                ...    \n",
       "2021-04-05    69.488910\n",
       "2021-04-06    70.191486\n",
       "2021-04-07    69.726369\n",
       "2021-04-08    68.674968\n",
       "2021-04-09    67.376266\n",
       "Name: Close, Length: 493, dtype: float64"
      ]
     },
     "execution_count": 38,
     "metadata": {},
     "output_type": "execute_result"
    }
   ],
   "source": [
    "#일간 변동률의 누적합 ~ 관측시점기준으로 최종 수익률 산출\n",
    "sec_dpc_cs=sec_dpc.cumsum()\n",
    "sec_dpc_cs"
   ]
  },
  {
   "cell_type": "code",
   "execution_count": 39,
   "metadata": {},
   "outputs": [
    {
     "data": {
      "text/plain": [
       "Date\n",
       "2019-04-10    0.000000\n",
       "2019-04-11    0.116482\n",
       "2019-04-12    0.631727\n",
       "2019-04-15    0.714411\n",
       "2019-04-16    0.483097\n",
       "Name: Close, dtype: float64"
      ]
     },
     "execution_count": 39,
     "metadata": {},
     "output_type": "execute_result"
    }
   ],
   "source": [
    "#Microsoft\n",
    "msft_dpc = (msft['Close']/msft['Close'].shift(1)-1)*100\n",
    "msft_dpc.iloc[0] = 0\n",
    "msft_dpc_cs = msft_dpc.cumsum()\n",
    "msft_dpc_cs.head()"
   ]
  },
  {
   "cell_type": "code",
   "execution_count": 40,
   "metadata": {},
   "outputs": [
    {
     "data": {
      "text/plain": [
       "Date\n",
       "2019-04-10     0.000000\n",
       "2019-04-11     0.116482\n",
       "2019-04-12     0.631727\n",
       "2019-04-15     0.714411\n",
       "2019-04-16     0.483097\n",
       "                ...    \n",
       "2021-04-05    84.731244\n",
       "2021-04-06    84.245434\n",
       "2021-04-07    85.068477\n",
       "2021-04-08    86.409015\n",
       "2021-04-09    87.435671\n",
       "Name: Close, Length: 504, dtype: float64"
      ]
     },
     "execution_count": 40,
     "metadata": {},
     "output_type": "execute_result"
    }
   ],
   "source": [
    "msft_dpc_cs=msft_dpc.cumsum()\n",
    "msft_dpc_cs"
   ]
  },
  {
   "cell_type": "code",
   "execution_count": 41,
   "metadata": {},
   "outputs": [
    {
     "data": {
      "text/plain": [
       "<function matplotlib.pyplot.show(close=None, block=None)>"
      ]
     },
     "execution_count": 41,
     "metadata": {},
     "output_type": "execute_result"
    },
    {
     "data": {
      "image/png": "[encoded data removed]",
      "text/plain": [
       "<Figure size 432x288 with 1 Axes>"
      ]
     },
     "metadata": {
      "needs_background": "light"
     },
     "output_type": "display_data"
    }
   ],
   "source": [
    "plt.plot(sec.index, sec_dpc_cs, 'b', label='삼성전자')\n",
    "plt.plot(msft.index, msft_dpc_cs, 'r--', label='Microsoft')\n",
    "plt.legend(loc='best')\n",
    "plt.xticks(rotation=45)\n",
    "plt.show\n",
    "\n",
    "# 추세도 변동성도 같은방향으로움직이는 경향"
   ]
  },
  {
   "cell_type": "code",
   "execution_count": null,
   "metadata": {},
   "outputs": [],
   "source": []
  },
  {
   "cell_type": "code",
   "execution_count": null,
   "metadata": {},
   "outputs": [],
   "source": []
  },
  {
   "cell_type": "code",
   "execution_count": null,
   "metadata": {},
   "outputs": [],
   "source": []
  }
 ],
 "metadata": {
  "kernelspec": {
   "display_name": "Python 3",
   "language": "python",
   "name": "python3"
  },
  "language_info": {
   "codemirror_mode": {
    "name": "ipython",
    "version": 3
   },
   "file_extension": ".py",
   "mimetype": "text/x-python",
   "name": "python",
   "nbconvert_exporter": "python",
   "pygments_lexer": "ipython3",
   "version": "3.8.5"
  }
 },
 "nbformat": 4,
 "nbformat_minor": 4
}
