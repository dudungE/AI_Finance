{
 "cells": [
  {
   "cell_type": "code",
   "execution_count": 36,
   "metadata": {
    "colab": {
     "base_uri": "https://localhost:8080/"
    },
    "id": "dpPiRAPtAxcS",
    "outputId": "89d94f27-af28-4be5-e13e-86d5ac0e5350"
   },
   "outputs": [
    {
     "name": "stdout",
     "output_type": "stream",
     "text": [
      "Cloning into 'AI_Finance'...\n",
      "fatal: could not read Username for 'https://github.com': No such device or address\n"
     ]
    }
   ],
   "source": [
    "!git clone https://github.com/dudungE/AI_Finance.git"
   ]
  },
  {
   "cell_type": "markdown",
   "metadata": {
    "id": "JW92yDqEA-Lt"
   },
   "source": []
  },
  {
   "cell_type": "code",
   "execution_count": 31,
   "metadata": {
    "colab": {
     "base_uri": "https://localhost:8080/"
    },
    "id": "EUrA6Z2ipdrV",
    "outputId": "e235ba49-15f4-456f-a756-6490c93924ff"
   },
   "outputs": [
    {
     "name": "stdout",
     "output_type": "stream",
     "text": [
      "/content/drive/MyDrive/Colab Notebooks/210222\n"
     ]
    }
   ],
   "source": [
    "cd /content/drive/MyDrive/Colab Notebooks/210222"
   ]
  },
  {
   "cell_type": "code",
   "execution_count": 3,
   "metadata": {
    "colab": {
     "base_uri": "https://localhost:8080/"
    },
    "id": "EXjMz2uQq8TT",
    "outputId": "7a05ce90-f6b9-4e92-cad8-842b56a06a27"
   },
   "outputs": [
    {
     "name": "stdout",
     "output_type": "stream",
     "text": [
      "/content/drive/MyDrive/Colab Notebooks/210222\n"
     ]
    }
   ],
   "source": [
    "!pwd  # 현재 위치"
   ]
  },
  {
   "cell_type": "code",
   "execution_count": 4,
   "metadata": {
    "colab": {
     "base_uri": "https://localhost:8080/"
    },
    "id": "yw88KG-urPa2",
    "outputId": "ac6d769a-6586-48e5-80cf-e2b0485404a8"
   },
   "outputs": [
    {
     "name": "stdout",
     "output_type": "stream",
     "text": [
      "data  주가딥러닝.ipynb\n"
     ]
    }
   ],
   "source": [
    "!ls  # 파일들"
   ]
  },
  {
   "cell_type": "code",
   "execution_count": 6,
   "metadata": {
    "colab": {
     "base_uri": "https://localhost:8080/",
     "height": 653
    },
    "id": "YxUEjZjbpLqE",
    "outputId": "95c6c72e-0c40-48e2-96d4-0091a8a1dfe7"
   },
   "outputs": [
    {
     "name": "stdout",
     "output_type": "stream",
     "text": [
      "<class 'pandas.core.frame.DataFrame'>\n",
      "RangeIndex: 421 entries, 0 to 420\n",
      "Data columns (total 6 columns):\n",
      " #   Column  Non-Null Count  Dtype \n",
      "---  ------  --------------  ----- \n",
      " 0   날짜      421 non-null    object\n",
      " 1   시가      421 non-null    int64 \n",
      " 2   고가      421 non-null    int64 \n",
      " 3   저가      421 non-null    int64 \n",
      " 4   종가      421 non-null    int64 \n",
      " 5   거래량     421 non-null    int64 \n",
      "dtypes: int64(5), object(1)\n",
      "memory usage: 19.9+ KB\n"
     ]
    },
    {
     "data": {
      "text/html": [
       "<div>\n",
       "<style scoped>\n",
       "    .dataframe tbody tr th:only-of-type {\n",
       "        vertical-align: middle;\n",
       "    }\n",
       "\n",
       "    .dataframe tbody tr th {\n",
       "        vertical-align: top;\n",
       "    }\n",
       "\n",
       "    .dataframe thead th {\n",
       "        text-align: right;\n",
       "    }\n",
       "</style>\n",
       "<table border=\"1\" class=\"dataframe\">\n",
       "  <thead>\n",
       "    <tr style=\"text-align: right;\">\n",
       "      <th></th>\n",
       "      <th>날짜</th>\n",
       "      <th>시가</th>\n",
       "      <th>고가</th>\n",
       "      <th>저가</th>\n",
       "      <th>종가</th>\n",
       "      <th>거래량</th>\n",
       "    </tr>\n",
       "  </thead>\n",
       "  <tbody>\n",
       "    <tr>\n",
       "      <th>0</th>\n",
       "      <td>2018-05-04</td>\n",
       "      <td>53000</td>\n",
       "      <td>53900</td>\n",
       "      <td>51800</td>\n",
       "      <td>51900</td>\n",
       "      <td>39565391</td>\n",
       "    </tr>\n",
       "    <tr>\n",
       "      <th>1</th>\n",
       "      <td>2018-05-08</td>\n",
       "      <td>52600</td>\n",
       "      <td>53200</td>\n",
       "      <td>51900</td>\n",
       "      <td>52600</td>\n",
       "      <td>23104720</td>\n",
       "    </tr>\n",
       "    <tr>\n",
       "      <th>2</th>\n",
       "      <td>2018-05-09</td>\n",
       "      <td>52600</td>\n",
       "      <td>52800</td>\n",
       "      <td>50900</td>\n",
       "      <td>50900</td>\n",
       "      <td>16128305</td>\n",
       "    </tr>\n",
       "    <tr>\n",
       "      <th>3</th>\n",
       "      <td>2018-05-10</td>\n",
       "      <td>51700</td>\n",
       "      <td>51700</td>\n",
       "      <td>50600</td>\n",
       "      <td>51600</td>\n",
       "      <td>13905263</td>\n",
       "    </tr>\n",
       "    <tr>\n",
       "      <th>4</th>\n",
       "      <td>2018-05-11</td>\n",
       "      <td>52000</td>\n",
       "      <td>52200</td>\n",
       "      <td>51200</td>\n",
       "      <td>51300</td>\n",
       "      <td>10314997</td>\n",
       "    </tr>\n",
       "    <tr>\n",
       "      <th>...</th>\n",
       "      <td>...</td>\n",
       "      <td>...</td>\n",
       "      <td>...</td>\n",
       "      <td>...</td>\n",
       "      <td>...</td>\n",
       "      <td>...</td>\n",
       "    </tr>\n",
       "    <tr>\n",
       "      <th>416</th>\n",
       "      <td>2020-01-16</td>\n",
       "      <td>59100</td>\n",
       "      <td>60700</td>\n",
       "      <td>59000</td>\n",
       "      <td>60700</td>\n",
       "      <td>14381774</td>\n",
       "    </tr>\n",
       "    <tr>\n",
       "      <th>417</th>\n",
       "      <td>2020-01-17</td>\n",
       "      <td>61900</td>\n",
       "      <td>62000</td>\n",
       "      <td>61000</td>\n",
       "      <td>61300</td>\n",
       "      <td>16025661</td>\n",
       "    </tr>\n",
       "    <tr>\n",
       "      <th>418</th>\n",
       "      <td>2020-01-20</td>\n",
       "      <td>62000</td>\n",
       "      <td>62800</td>\n",
       "      <td>61700</td>\n",
       "      <td>62400</td>\n",
       "      <td>12528855</td>\n",
       "    </tr>\n",
       "    <tr>\n",
       "      <th>419</th>\n",
       "      <td>2020-01-21</td>\n",
       "      <td>62000</td>\n",
       "      <td>62400</td>\n",
       "      <td>61200</td>\n",
       "      <td>61400</td>\n",
       "      <td>11142693</td>\n",
       "    </tr>\n",
       "    <tr>\n",
       "      <th>420</th>\n",
       "      <td>2020-01-22</td>\n",
       "      <td>60500</td>\n",
       "      <td>62600</td>\n",
       "      <td>60400</td>\n",
       "      <td>62300</td>\n",
       "      <td>15339565</td>\n",
       "    </tr>\n",
       "  </tbody>\n",
       "</table>\n",
       "<p>421 rows × 6 columns</p>\n",
       "</div>"
      ],
      "text/plain": [
       "             날짜     시가     고가     저가     종가       거래량\n",
       "0    2018-05-04  53000  53900  51800  51900  39565391\n",
       "1    2018-05-08  52600  53200  51900  52600  23104720\n",
       "2    2018-05-09  52600  52800  50900  50900  16128305\n",
       "3    2018-05-10  51700  51700  50600  51600  13905263\n",
       "4    2018-05-11  52000  52200  51200  51300  10314997\n",
       "..          ...    ...    ...    ...    ...       ...\n",
       "416  2020-01-16  59100  60700  59000  60700  14381774\n",
       "417  2020-01-17  61900  62000  61000  61300  16025661\n",
       "418  2020-01-20  62000  62800  61700  62400  12528855\n",
       "419  2020-01-21  62000  62400  61200  61400  11142693\n",
       "420  2020-01-22  60500  62600  60400  62300  15339565\n",
       "\n",
       "[421 rows x 6 columns]"
      ]
     },
     "execution_count": 6,
     "metadata": {
      "tags": []
     },
     "output_type": "execute_result"
    }
   ],
   "source": [
    "import pandas as pd\n",
    "raw_df = pd.read_csv('./data/교재435_삼성전자.csv')\n",
    "raw_df.info()\n",
    "raw_df"
   ]
  },
  {
   "cell_type": "code",
   "execution_count": 7,
   "metadata": {
    "colab": {
     "base_uri": "https://localhost:8080/",
     "height": 141
    },
    "id": "uj2im6ALqIpX",
    "outputId": "76e0c98e-02de-46b2-8bff-3094e2162cbf"
   },
   "outputs": [
    {
     "data": {
      "text/html": [
       "<div>\n",
       "<style scoped>\n",
       "    .dataframe tbody tr th:only-of-type {\n",
       "        vertical-align: middle;\n",
       "    }\n",
       "\n",
       "    .dataframe tbody tr th {\n",
       "        vertical-align: top;\n",
       "    }\n",
       "\n",
       "    .dataframe thead th {\n",
       "        text-align: right;\n",
       "    }\n",
       "</style>\n",
       "<table border=\"1\" class=\"dataframe\">\n",
       "  <thead>\n",
       "    <tr style=\"text-align: right;\">\n",
       "      <th></th>\n",
       "      <th>시가</th>\n",
       "      <th>고가</th>\n",
       "      <th>저가</th>\n",
       "      <th>거래량</th>\n",
       "      <th>종가</th>\n",
       "    </tr>\n",
       "  </thead>\n",
       "  <tbody>\n",
       "    <tr>\n",
       "      <th>0</th>\n",
       "      <td>53000</td>\n",
       "      <td>53900</td>\n",
       "      <td>51800</td>\n",
       "      <td>39565391</td>\n",
       "      <td>51900</td>\n",
       "    </tr>\n",
       "    <tr>\n",
       "      <th>1</th>\n",
       "      <td>52600</td>\n",
       "      <td>53200</td>\n",
       "      <td>51900</td>\n",
       "      <td>23104720</td>\n",
       "      <td>52600</td>\n",
       "    </tr>\n",
       "    <tr>\n",
       "      <th>2</th>\n",
       "      <td>52600</td>\n",
       "      <td>52800</td>\n",
       "      <td>50900</td>\n",
       "      <td>16128305</td>\n",
       "      <td>50900</td>\n",
       "    </tr>\n",
       "  </tbody>\n",
       "</table>\n",
       "</div>"
      ],
      "text/plain": [
       "      시가     고가     저가       거래량     종가\n",
       "0  53000  53900  51800  39565391  51900\n",
       "1  52600  53200  51900  23104720  52600\n",
       "2  52600  52800  50900  16128305  50900"
      ]
     },
     "execution_count": 7,
     "metadata": {
      "tags": []
     },
     "output_type": "execute_result"
    }
   ],
   "source": [
    "dfx=raw_df[['시가','고가','저가','거래량','종가']]\n",
    "dfx.head(3)"
   ]
  },
  {
   "cell_type": "code",
   "execution_count": 8,
   "metadata": {
    "colab": {
     "base_uri": "https://localhost:8080/",
     "height": 526
    },
    "id": "j6KRNajLqaP0",
    "outputId": "c6b3580f-4c0c-4e3b-e206-2c56bf2ffae1"
   },
   "outputs": [
    {
     "name": "stdout",
     "output_type": "stream",
     "text": [
      "시가       37450\n",
      "고가       37600\n",
      "저가       36850\n",
      "거래량    4406531\n",
      "종가       37450\n",
      "dtype: int64\n"
     ]
    },
    {
     "data": {
      "text/html": [
       "<div>\n",
       "<style scoped>\n",
       "    .dataframe tbody tr th:only-of-type {\n",
       "        vertical-align: middle;\n",
       "    }\n",
       "\n",
       "    .dataframe tbody tr th {\n",
       "        vertical-align: top;\n",
       "    }\n",
       "\n",
       "    .dataframe thead th {\n",
       "        text-align: right;\n",
       "    }\n",
       "</style>\n",
       "<table border=\"1\" class=\"dataframe\">\n",
       "  <thead>\n",
       "    <tr style=\"text-align: right;\">\n",
       "      <th></th>\n",
       "      <th>시가</th>\n",
       "      <th>고가</th>\n",
       "      <th>저가</th>\n",
       "      <th>거래량</th>\n",
       "      <th>종가</th>\n",
       "    </tr>\n",
       "  </thead>\n",
       "  <tbody>\n",
       "    <tr>\n",
       "      <th>0</th>\n",
       "      <td>53000</td>\n",
       "      <td>53900</td>\n",
       "      <td>51800</td>\n",
       "      <td>39565391</td>\n",
       "      <td>51900</td>\n",
       "    </tr>\n",
       "    <tr>\n",
       "      <th>1</th>\n",
       "      <td>52600</td>\n",
       "      <td>53200</td>\n",
       "      <td>51900</td>\n",
       "      <td>23104720</td>\n",
       "      <td>52600</td>\n",
       "    </tr>\n",
       "    <tr>\n",
       "      <th>2</th>\n",
       "      <td>52600</td>\n",
       "      <td>52800</td>\n",
       "      <td>50900</td>\n",
       "      <td>16128305</td>\n",
       "      <td>50900</td>\n",
       "    </tr>\n",
       "    <tr>\n",
       "      <th>3</th>\n",
       "      <td>51700</td>\n",
       "      <td>51700</td>\n",
       "      <td>50600</td>\n",
       "      <td>13905263</td>\n",
       "      <td>51600</td>\n",
       "    </tr>\n",
       "    <tr>\n",
       "      <th>4</th>\n",
       "      <td>52000</td>\n",
       "      <td>52200</td>\n",
       "      <td>51200</td>\n",
       "      <td>10314997</td>\n",
       "      <td>51300</td>\n",
       "    </tr>\n",
       "    <tr>\n",
       "      <th>...</th>\n",
       "      <td>...</td>\n",
       "      <td>...</td>\n",
       "      <td>...</td>\n",
       "      <td>...</td>\n",
       "      <td>...</td>\n",
       "    </tr>\n",
       "    <tr>\n",
       "      <th>416</th>\n",
       "      <td>59100</td>\n",
       "      <td>60700</td>\n",
       "      <td>59000</td>\n",
       "      <td>14381774</td>\n",
       "      <td>60700</td>\n",
       "    </tr>\n",
       "    <tr>\n",
       "      <th>417</th>\n",
       "      <td>61900</td>\n",
       "      <td>62000</td>\n",
       "      <td>61000</td>\n",
       "      <td>16025661</td>\n",
       "      <td>61300</td>\n",
       "    </tr>\n",
       "    <tr>\n",
       "      <th>418</th>\n",
       "      <td>62000</td>\n",
       "      <td>62800</td>\n",
       "      <td>61700</td>\n",
       "      <td>12528855</td>\n",
       "      <td>62400</td>\n",
       "    </tr>\n",
       "    <tr>\n",
       "      <th>419</th>\n",
       "      <td>62000</td>\n",
       "      <td>62400</td>\n",
       "      <td>61200</td>\n",
       "      <td>11142693</td>\n",
       "      <td>61400</td>\n",
       "    </tr>\n",
       "    <tr>\n",
       "      <th>420</th>\n",
       "      <td>60500</td>\n",
       "      <td>62600</td>\n",
       "      <td>60400</td>\n",
       "      <td>15339565</td>\n",
       "      <td>62300</td>\n",
       "    </tr>\n",
       "  </tbody>\n",
       "</table>\n",
       "<p>421 rows × 5 columns</p>\n",
       "</div>"
      ],
      "text/plain": [
       "        시가     고가     저가       거래량     종가\n",
       "0    53000  53900  51800  39565391  51900\n",
       "1    52600  53200  51900  23104720  52600\n",
       "2    52600  52800  50900  16128305  50900\n",
       "3    51700  51700  50600  13905263  51600\n",
       "4    52000  52200  51200  10314997  51300\n",
       "..     ...    ...    ...       ...    ...\n",
       "416  59100  60700  59000  14381774  60700\n",
       "417  61900  62000  61000  16025661  61300\n",
       "418  62000  62800  61700  12528855  62400\n",
       "419  62000  62400  61200  11142693  61400\n",
       "420  60500  62600  60400  15339565  62300\n",
       "\n",
       "[421 rows x 5 columns]"
      ]
     },
     "execution_count": 8,
     "metadata": {
      "tags": []
     },
     "output_type": "execute_result"
    }
   ],
   "source": [
    "#데이터정규화\n",
    "data=dfx\n",
    "import numpy as np\n",
    "numer=data-np.min(data,0)  # 옵션값 0은 열단위에서 구하는 최소값, 1은 행단위에서 구하는 최소값 \n",
    "print(np.min(data,0))\n",
    "numer+np.min(data,0)"
   ]
  },
  {
   "cell_type": "code",
   "execution_count": 9,
   "metadata": {
    "colab": {
     "base_uri": "https://localhost:8080/",
     "height": 417
    },
    "id": "ErrKXQUZqbyu",
    "outputId": "f71f4274-ac5c-4a5e-8fa1-df47ec2b7148"
   },
   "outputs": [
    {
     "data": {
      "text/html": [
       "<div>\n",
       "<style scoped>\n",
       "    .dataframe tbody tr th:only-of-type {\n",
       "        vertical-align: middle;\n",
       "    }\n",
       "\n",
       "    .dataframe tbody tr th {\n",
       "        vertical-align: top;\n",
       "    }\n",
       "\n",
       "    .dataframe thead th {\n",
       "        text-align: right;\n",
       "    }\n",
       "</style>\n",
       "<table border=\"1\" class=\"dataframe\">\n",
       "  <thead>\n",
       "    <tr style=\"text-align: right;\">\n",
       "      <th></th>\n",
       "      <th>시가</th>\n",
       "      <th>고가</th>\n",
       "      <th>저가</th>\n",
       "      <th>거래량</th>\n",
       "      <th>종가</th>\n",
       "    </tr>\n",
       "  </thead>\n",
       "  <tbody>\n",
       "    <tr>\n",
       "      <th>0</th>\n",
       "      <td>0.633401</td>\n",
       "      <td>0.646825</td>\n",
       "      <td>0.601610</td>\n",
       "      <td>0.595060</td>\n",
       "      <td>0.579158</td>\n",
       "    </tr>\n",
       "    <tr>\n",
       "      <th>1</th>\n",
       "      <td>0.617108</td>\n",
       "      <td>0.619048</td>\n",
       "      <td>0.605634</td>\n",
       "      <td>0.316465</td>\n",
       "      <td>0.607214</td>\n",
       "    </tr>\n",
       "    <tr>\n",
       "      <th>2</th>\n",
       "      <td>0.617108</td>\n",
       "      <td>0.603175</td>\n",
       "      <td>0.565392</td>\n",
       "      <td>0.198390</td>\n",
       "      <td>0.539078</td>\n",
       "    </tr>\n",
       "    <tr>\n",
       "      <th>3</th>\n",
       "      <td>0.580448</td>\n",
       "      <td>0.559524</td>\n",
       "      <td>0.553320</td>\n",
       "      <td>0.160765</td>\n",
       "      <td>0.567134</td>\n",
       "    </tr>\n",
       "    <tr>\n",
       "      <th>4</th>\n",
       "      <td>0.592668</td>\n",
       "      <td>0.579365</td>\n",
       "      <td>0.577465</td>\n",
       "      <td>0.100000</td>\n",
       "      <td>0.555110</td>\n",
       "    </tr>\n",
       "    <tr>\n",
       "      <th>...</th>\n",
       "      <td>...</td>\n",
       "      <td>...</td>\n",
       "      <td>...</td>\n",
       "      <td>...</td>\n",
       "      <td>...</td>\n",
       "    </tr>\n",
       "    <tr>\n",
       "      <th>416</th>\n",
       "      <td>0.881874</td>\n",
       "      <td>0.916667</td>\n",
       "      <td>0.891348</td>\n",
       "      <td>0.168830</td>\n",
       "      <td>0.931864</td>\n",
       "    </tr>\n",
       "    <tr>\n",
       "      <th>417</th>\n",
       "      <td>0.995927</td>\n",
       "      <td>0.968254</td>\n",
       "      <td>0.971831</td>\n",
       "      <td>0.196653</td>\n",
       "      <td>0.955912</td>\n",
       "    </tr>\n",
       "    <tr>\n",
       "      <th>418</th>\n",
       "      <td>1.000000</td>\n",
       "      <td>1.000000</td>\n",
       "      <td>1.000000</td>\n",
       "      <td>0.137469</td>\n",
       "      <td>1.000000</td>\n",
       "    </tr>\n",
       "    <tr>\n",
       "      <th>419</th>\n",
       "      <td>1.000000</td>\n",
       "      <td>0.984127</td>\n",
       "      <td>0.979879</td>\n",
       "      <td>0.114009</td>\n",
       "      <td>0.959920</td>\n",
       "    </tr>\n",
       "    <tr>\n",
       "      <th>420</th>\n",
       "      <td>0.938900</td>\n",
       "      <td>0.992063</td>\n",
       "      <td>0.947686</td>\n",
       "      <td>0.185040</td>\n",
       "      <td>0.995992</td>\n",
       "    </tr>\n",
       "  </tbody>\n",
       "</table>\n",
       "<p>421 rows × 5 columns</p>\n",
       "</div>"
      ],
      "text/plain": [
       "           시가        고가        저가       거래량        종가\n",
       "0    0.633401  0.646825  0.601610  0.595060  0.579158\n",
       "1    0.617108  0.619048  0.605634  0.316465  0.607214\n",
       "2    0.617108  0.603175  0.565392  0.198390  0.539078\n",
       "3    0.580448  0.559524  0.553320  0.160765  0.567134\n",
       "4    0.592668  0.579365  0.577465  0.100000  0.555110\n",
       "..        ...       ...       ...       ...       ...\n",
       "416  0.881874  0.916667  0.891348  0.168830  0.931864\n",
       "417  0.995927  0.968254  0.971831  0.196653  0.955912\n",
       "418  1.000000  1.000000  1.000000  0.137469  1.000000\n",
       "419  1.000000  0.984127  0.979879  0.114009  0.959920\n",
       "420  0.938900  0.992063  0.947686  0.185040  0.995992\n",
       "\n",
       "[421 rows x 5 columns]"
      ]
     },
     "execution_count": 9,
     "metadata": {
      "tags": []
     },
     "output_type": "execute_result"
    }
   ],
   "source": [
    "deno=np.max(data,0)-np.min(data,0)\n",
    "dfx1=numer/(deno+1e-7)\n",
    "dfx1.head\n",
    "dfx1"
   ]
  },
  {
   "cell_type": "code",
   "execution_count": 30,
   "metadata": {
    "colab": {
     "base_uri": "https://localhost:8080/"
    },
    "id": "1Nfw5Lc3_1Y-",
    "outputId": "133aa6e2-2fe8-4a0f-c125-52df126aa243"
   },
   "outputs": [
    {
     "data": {
      "text/plain": [
       "array([[[0.63340122, 0.6468254 , 0.60160966, 0.59505985, 0.57915832],\n",
       "        [0.61710794, 0.61904762, 0.6056338 , 0.3164648 , 0.60721443],\n",
       "        [0.61710794, 0.6031746 , 0.56539235, 0.19838974, 0.53907816],\n",
       "        ...,\n",
       "        [0.47861507, 0.5       , 0.49496982, 0.19484191, 0.49699399],\n",
       "        [0.52342159, 0.51190476, 0.50503018, 0.10085388, 0.47895792],\n",
       "        [0.50712831, 0.48809524, 0.50301811, 0.03892791, 0.48296593]],\n",
       "\n",
       "       [[0.61710794, 0.61904762, 0.6056338 , 0.3164648 , 0.60721443],\n",
       "        [0.61710794, 0.6031746 , 0.56539235, 0.19838974, 0.53907816],\n",
       "        [0.58044807, 0.55952381, 0.55331992, 0.160765  , 0.56713427],\n",
       "        ...,\n",
       "        [0.52342159, 0.51190476, 0.50503018, 0.10085388, 0.47895792],\n",
       "        [0.50712831, 0.48809524, 0.50301811, 0.03892791, 0.48296593],\n",
       "        [0.49694501, 0.5       , 0.49295775, 0.07809935, 0.50300601]],\n",
       "\n",
       "       [[0.61710794, 0.6031746 , 0.56539235, 0.19838974, 0.53907816],\n",
       "        [0.58044807, 0.55952381, 0.55331992, 0.160765  , 0.56713427],\n",
       "        [0.59266802, 0.57936508, 0.57746479, 0.10000014, 0.55511022],\n",
       "        ...,\n",
       "        [0.50712831, 0.48809524, 0.50301811, 0.03892791, 0.48296593],\n",
       "        [0.49694501, 0.5       , 0.49295775, 0.07809935, 0.50300601],\n",
       "        [0.53564155, 0.57142857, 0.54527163, 0.21475924, 0.5751503 ]],\n",
       "\n",
       "       ...,\n",
       "\n",
       "       [[0.31771894, 0.34126984, 0.33802817, 0.03315657, 0.34268537],\n",
       "        [0.34623218, 0.33134921, 0.33802817, 0.04787821, 0.32865731],\n",
       "        [0.29735234, 0.28571429, 0.30181087, 0.05783763, 0.27855711],\n",
       "        ...,\n",
       "        [0.34623218, 0.35912698, 0.35814889, 0.00525848, 0.36072144],\n",
       "        [0.36659878, 0.36706349, 0.38028169, 0.05079655, 0.37675351],\n",
       "        [0.35437882, 0.34722222, 0.36619718, 0.01371036, 0.34468938]],\n",
       "\n",
       "       [[0.34623218, 0.33134921, 0.33802817, 0.04787821, 0.32865731],\n",
       "        [0.29735234, 0.28571429, 0.30181087, 0.05783763, 0.27855711],\n",
       "        [0.30142566, 0.31150794, 0.31589537, 0.05483478, 0.30661323],\n",
       "        ...,\n",
       "        [0.36659878, 0.36706349, 0.38028169, 0.05079655, 0.37675351],\n",
       "        [0.35437882, 0.34722222, 0.36619718, 0.01371036, 0.34468938],\n",
       "        [0.36659878, 0.35119048, 0.35412475, 0.01247403, 0.34669339]],\n",
       "\n",
       "       [[0.29735234, 0.28571429, 0.30181087, 0.05783763, 0.27855711],\n",
       "        [0.30142566, 0.31150794, 0.31589537, 0.05483478, 0.30661323],\n",
       "        [0.3299389 , 0.33928571, 0.34808853, 0.0820417 , 0.3246493 ],\n",
       "        ...,\n",
       "        [0.35437882, 0.34722222, 0.36619718, 0.01371036, 0.34468938],\n",
       "        [0.36659878, 0.35119048, 0.35412475, 0.01247403, 0.34669339],\n",
       "        [0.37474542, 0.37103175, 0.39235412, 0.07468721, 0.3747495 ]]])"
      ]
     },
     "execution_count": 30,
     "metadata": {
      "tags": []
     },
     "output_type": "execute_result"
    }
   ],
   "source": [
    "trainX"
   ]
  },
  {
   "cell_type": "code",
   "execution_count": 12,
   "metadata": {
    "id": "FtOfiLJKqcja"
   },
   "outputs": [],
   "source": [
    "dfy1=dfx1['종가']\n",
    "x=dfx1.values.tolist()      # 텐서플로우작업은 모두 values로 변경해야함\n",
    "y=dfy1.values.tolist()"
   ]
  },
  {
   "cell_type": "code",
   "execution_count": 13,
   "metadata": {
    "colab": {
     "base_uri": "https://localhost:8080/"
    },
    "id": "jVFB10v5qchM",
    "outputId": "df2085b1-88f1-45ee-eb5c-31b183113ea0"
   },
   "outputs": [
    {
     "data": {
      "text/plain": [
       "array([[0.6468254 , 0.60160966],\n",
       "       [0.61904762, 0.6056338 ],\n",
       "       [0.6031746 , 0.56539235],\n",
       "       [0.55952381, 0.55331992],\n",
       "       [0.57936508, 0.57746479],\n",
       "       [0.53571429, 0.52515091],\n",
       "       [0.50793651, 0.49295775],\n",
       "       [0.5       , 0.49496982],\n",
       "       [0.51190476, 0.50503018],\n",
       "       [0.48809524, 0.50301811]])"
      ]
     },
     "execution_count": 13,
     "metadata": {
      "tags": []
     },
     "output_type": "execute_result"
    }
   ],
   "source": [
    "dfx1.values[:,[1,2]][:10]"
   ]
  },
  {
   "cell_type": "code",
   "execution_count": 14,
   "metadata": {
    "colab": {
     "base_uri": "https://localhost:8080/"
    },
    "id": "J4m16IAiqcer",
    "outputId": "8c3a6c59-7817-45f6-ec28-47075c143213"
   },
   "outputs": [
    {
     "name": "stdout",
     "output_type": "stream",
     "text": [
      "[[0.9389002036621633, 0.9920634920595552, 0.9476861166963876, 0.18504040089784482, 0.9959919839639438]]\n"
     ]
    }
   ],
   "source": [
    "print(x[-1:])"
   ]
  },
  {
   "cell_type": "code",
   "execution_count": 15,
   "metadata": {
    "colab": {
     "base_uri": "https://localhost:8080/"
    },
    "id": "HdHund-EqccX",
    "outputId": "ebf4ac79-6c54-48bb-f985-77aea63effb2"
   },
   "outputs": [
    {
     "name": "stdout",
     "output_type": "stream",
     "text": [
      "[0.9959919839639438]\n"
     ]
    }
   ],
   "source": [
    "print(y[-1:])   # 종가자료만"
   ]
  },
  {
   "cell_type": "code",
   "execution_count": 16,
   "metadata": {
    "colab": {
     "base_uri": "https://localhost:8080/"
    },
    "id": "lTBIP6z6v0y8",
    "outputId": "b780cba6-989f-4749-9727-80aace856178"
   },
   "outputs": [
    {
     "data": {
      "text/plain": [
       "421"
      ]
     },
     "execution_count": 16,
     "metadata": {
      "tags": []
     },
     "output_type": "execute_result"
    }
   ],
   "source": [
    "# 교재 438쪽\n",
    "\n",
    "data_x=[]; data_y=[]\n",
    "win_size=10\n",
    "\n",
    "len(y) # 2018-5-4 ~ 2020-1-22까지의 종가 개수"
   ]
  },
  {
   "cell_type": "code",
   "execution_count": 17,
   "metadata": {
    "id": "afVaMp_zv0wE"
   },
   "outputs": [],
   "source": [
    "z_x=x[0:10]  #0일때는 0~10, 1일때는 1~11, 2일때는 2~12,  411일때는 411~421 이러면서 421번자료가 없죠\n",
    "i=412"
   ]
  },
  {
   "cell_type": "code",
   "execution_count": 18,
   "metadata": {
    "id": "7ZkF5TsGv0uD"
   },
   "outputs": [],
   "source": [
    "for i in range(len(y)-win_size):\n",
    "  _x=x[i:i+win_size]  # 0 일때는 0~10, 1일때는 1~11, 2일때는 2~12 ... 411일때 411~421 이러면서 421번자료없죠\n",
    "  _y=y[i+win_size]\n",
    "  data_x.append(_x) ; data_y.append(_y)"
   ]
  },
  {
   "cell_type": "code",
   "execution_count": 19,
   "metadata": {
    "id": "24Cgas4gv0r3"
   },
   "outputs": [],
   "source": [
    "#훈련용 데이터 테스트데이터\n",
    "train_size=int(len(data_y)*0.7)\n",
    "trainX=np.array(data_x[0:train_size])\n",
    "trainY=np.array(data_y[0:train_size])\n",
    "\n",
    "test_size=int(len(data_y)-train_size)\n",
    "testX=np.array(data_x[test_size:len(data_x)])\n",
    "testY=np.array(data_y[test_size:len(data_y)])"
   ]
  },
  {
   "cell_type": "code",
   "execution_count": 20,
   "metadata": {
    "id": "RlAINdQhv0pm"
   },
   "outputs": [],
   "source": [
    "from tensorflow.keras import Sequential\n",
    "from tensorflow.keras.layers import Dense, LSTM, Dropout"
   ]
  },
  {
   "cell_type": "code",
   "execution_count": 21,
   "metadata": {
    "colab": {
     "base_uri": "https://localhost:8080/"
    },
    "id": "UFGY3_aiy3Ak",
    "outputId": "143d3ffd-18da-48a9-c050-3433d247dad3"
   },
   "outputs": [
    {
     "name": "stdout",
     "output_type": "stream",
     "text": [
      "Model: \"sequential\"\n",
      "_________________________________________________________________\n",
      "Layer (type)                 Output Shape              Param #   \n",
      "=================================================================\n",
      "lstm (LSTM)                  (None, 10, 10)            640       \n",
      "_________________________________________________________________\n",
      "dropout (Dropout)            (None, 10, 10)            0         \n",
      "_________________________________________________________________\n",
      "lstm_1 (LSTM)                (None, 10)                840       \n",
      "_________________________________________________________________\n",
      "dropout_1 (Dropout)          (None, 10)                0         \n",
      "_________________________________________________________________\n",
      "dense (Dense)                (None, 1)                 11        \n",
      "=================================================================\n",
      "Total params: 1,491\n",
      "Trainable params: 1,491\n",
      "Non-trainable params: 0\n",
      "_________________________________________________________________\n",
      "Epoch 1/50\n",
      "10/10 [==============================] - 3s 9ms/step - loss: 0.0815\n",
      "Epoch 2/50\n",
      "10/10 [==============================] - 0s 9ms/step - loss: 0.0577\n",
      "Epoch 3/50\n",
      "10/10 [==============================] - 0s 10ms/step - loss: 0.0319\n",
      "Epoch 4/50\n",
      "10/10 [==============================] - 0s 10ms/step - loss: 0.0103\n",
      "Epoch 5/50\n",
      "10/10 [==============================] - 0s 10ms/step - loss: 0.0090\n",
      "Epoch 6/50\n",
      "10/10 [==============================] - 0s 10ms/step - loss: 0.0080\n",
      "Epoch 7/50\n",
      "10/10 [==============================] - 0s 10ms/step - loss: 0.0075\n",
      "Epoch 8/50\n",
      "10/10 [==============================] - 0s 9ms/step - loss: 0.0074\n",
      "Epoch 9/50\n",
      "10/10 [==============================] - 0s 10ms/step - loss: 0.0064\n",
      "Epoch 10/50\n",
      "10/10 [==============================] - 0s 9ms/step - loss: 0.0064\n",
      "Epoch 11/50\n",
      "10/10 [==============================] - 0s 9ms/step - loss: 0.0064\n",
      "Epoch 12/50\n",
      "10/10 [==============================] - 0s 10ms/step - loss: 0.0084\n",
      "Epoch 13/50\n",
      "10/10 [==============================] - 0s 11ms/step - loss: 0.0064\n",
      "Epoch 14/50\n",
      "10/10 [==============================] - 0s 10ms/step - loss: 0.0064\n",
      "Epoch 15/50\n",
      "10/10 [==============================] - 0s 9ms/step - loss: 0.0052\n",
      "Epoch 16/50\n",
      "10/10 [==============================] - 0s 11ms/step - loss: 0.0062\n",
      "Epoch 17/50\n",
      "10/10 [==============================] - 0s 13ms/step - loss: 0.0046\n",
      "Epoch 18/50\n",
      "10/10 [==============================] - 0s 13ms/step - loss: 0.0054\n",
      "Epoch 19/50\n",
      "10/10 [==============================] - 0s 14ms/step - loss: 0.0044\n",
      "Epoch 20/50\n",
      "10/10 [==============================] - 0s 14ms/step - loss: 0.0071\n",
      "Epoch 21/50\n",
      "10/10 [==============================] - 0s 14ms/step - loss: 0.0063\n",
      "Epoch 22/50\n",
      "10/10 [==============================] - 0s 12ms/step - loss: 0.0055\n",
      "Epoch 23/50\n",
      "10/10 [==============================] - 0s 11ms/step - loss: 0.0063\n",
      "Epoch 24/50\n",
      "10/10 [==============================] - 0s 10ms/step - loss: 0.0058\n",
      "Epoch 25/50\n",
      "10/10 [==============================] - 0s 11ms/step - loss: 0.0055\n",
      "Epoch 26/50\n",
      "10/10 [==============================] - 0s 11ms/step - loss: 0.0062\n",
      "Epoch 27/50\n",
      "10/10 [==============================] - 0s 9ms/step - loss: 0.0053\n",
      "Epoch 28/50\n",
      "10/10 [==============================] - 0s 11ms/step - loss: 0.0047\n",
      "Epoch 29/50\n",
      "10/10 [==============================] - 0s 10ms/step - loss: 0.0056\n",
      "Epoch 30/50\n",
      "10/10 [==============================] - 0s 10ms/step - loss: 0.0060\n",
      "Epoch 31/50\n",
      "10/10 [==============================] - 0s 10ms/step - loss: 0.0057\n",
      "Epoch 32/50\n",
      "10/10 [==============================] - 0s 12ms/step - loss: 0.0048\n",
      "Epoch 33/50\n",
      "10/10 [==============================] - 0s 10ms/step - loss: 0.0048\n",
      "Epoch 34/50\n",
      "10/10 [==============================] - 0s 14ms/step - loss: 0.0054\n",
      "Epoch 35/50\n",
      "10/10 [==============================] - 0s 14ms/step - loss: 0.0049\n",
      "Epoch 36/50\n",
      "10/10 [==============================] - 0s 12ms/step - loss: 0.0048\n",
      "Epoch 37/50\n",
      "10/10 [==============================] - 0s 11ms/step - loss: 0.0051\n",
      "Epoch 38/50\n",
      "10/10 [==============================] - 0s 9ms/step - loss: 0.0045\n",
      "Epoch 39/50\n",
      "10/10 [==============================] - 0s 9ms/step - loss: 0.0046\n",
      "Epoch 40/50\n",
      "10/10 [==============================] - 0s 10ms/step - loss: 0.0045\n",
      "Epoch 41/50\n",
      "10/10 [==============================] - 0s 10ms/step - loss: 0.0055\n",
      "Epoch 42/50\n",
      "10/10 [==============================] - 0s 9ms/step - loss: 0.0045\n",
      "Epoch 43/50\n",
      "10/10 [==============================] - 0s 10ms/step - loss: 0.0047\n",
      "Epoch 44/50\n",
      "10/10 [==============================] - 0s 11ms/step - loss: 0.0042\n",
      "Epoch 45/50\n",
      "10/10 [==============================] - 0s 9ms/step - loss: 0.0048\n",
      "Epoch 46/50\n",
      "10/10 [==============================] - 0s 9ms/step - loss: 0.0048\n",
      "Epoch 47/50\n",
      "10/10 [==============================] - 0s 9ms/step - loss: 0.0054\n",
      "Epoch 48/50\n",
      "10/10 [==============================] - 0s 10ms/step - loss: 0.0049\n",
      "Epoch 49/50\n",
      "10/10 [==============================] - 0s 10ms/step - loss: 0.0044\n",
      "Epoch 50/50\n",
      "10/10 [==============================] - 0s 9ms/step - loss: 0.0042\n"
     ]
    }
   ],
   "source": [
    "# 모델 생성\n",
    "model = Sequential()\n",
    "model.add(LSTM(units=10, activation='relu', return_sequences=True, input_shape=(win_size, 5)))   \n",
    "# input_shape값의 10, 5는 10일간의 자료와 시가,고가,저가,거래량,종가의 5개자료\n",
    "model.add(Dropout(0.1))\n",
    "model.add(LSTM(units=10, activation='relu'))\n",
    "model.add(Dropout(0.1))\n",
    "model.add(Dense(units=1))\n",
    "model.summary()\n",
    "\n",
    "model.compile(optimizer='adam', loss='mean_squared_error')\n",
    "model.fit(trainX, trainY, epochs=50, batch_size=30)\n",
    "pred_y = model.predict(testX)"
   ]
  },
  {
   "cell_type": "code",
   "execution_count": null,
   "metadata": {
    "colab": {
     "base_uri": "https://localhost:8080/",
     "height": 295
    },
    "id": "QlKNFYWxy3HX",
    "outputId": "5ca97625-a304-4d05-eae3-cd7a7a4ca2a6"
   },
   "outputs": [
    {
     "data": {
      "image/png": "[encoded data removed]",
      "text/plain": [
       "<Figure size 432x288 with 1 Axes>"
      ]
     },
     "metadata": {
      "needs_background": "light",
      "tags": []
     },
     "output_type": "display_data"
    }
   ],
   "source": [
    "# Visualising the results\n",
    "import matplotlib.pyplot as plt\n",
    "plt.figure()\n",
    "plt.plot(testY, color='red', label='real SEC stock price')\n",
    "plt.plot(pred_y, color='blue', label='predicted SEC stock price')\n",
    "plt.title('SEC stock price prediction')\n",
    "plt.xlabel('time')\n",
    "plt.ylabel('stock price')\n",
    "plt.legend()\n",
    "plt.show()"
   ]
  },
  {
   "cell_type": "code",
   "execution_count": 22,
   "metadata": {
    "colab": {
     "base_uri": "https://localhost:8080/",
     "height": 295
    },
    "id": "QE2uAhg03nXF",
    "outputId": "ca83f681-98ea-4507-adaa-a8f178710884"
   },
   "outputs": [
    {
     "data": {
      "image/png": "[encoded data removed]",
      "text/plain": [
       "<Figure size 432x288 with 1 Axes>"
      ]
     },
     "metadata": {
      "needs_background": "light",
      "tags": []
     },
     "output_type": "display_data"
    }
   ],
   "source": [
    "# Visualising the results\n",
    "import matplotlib.pyplot as plt\n",
    "plt.figure()\n",
    "plt.plot(testY, color='red', label='real SEC stock price')\n",
    "plt.plot(pred_y, color='blue', label='predicted SEC stock price')\n",
    "plt.title('SEC stock price prediction')\n",
    "plt.xlabel('time')\n",
    "plt.ylabel('stock price')\n",
    "plt.legend()\n",
    "plt.show()"
   ]
  },
  {
   "cell_type": "code",
   "execution_count": 24,
   "metadata": {
    "colab": {
     "base_uri": "https://localhost:8080/"
    },
    "id": "9xoh1cKFqcXk",
    "outputId": "84c27388-2927-48a5-814a-e41c097e8c1a"
   },
   "outputs": [
    {
     "name": "stdout",
     "output_type": "stream",
     "text": [
      "Tomorrow's SEC price : [58049.836] KRW\n"
     ]
    }
   ],
   "source": [
    "print(\"Tomorrow's SEC price :\", raw_df['종가'].iloc[420] * pred_y[-1] / dfx1.종가.iloc[420], 'KRW')"
   ]
  },
  {
   "cell_type": "code",
   "execution_count": 25,
   "metadata": {
    "colab": {
     "base_uri": "https://localhost:8080/"
    },
    "id": "KaIDHhLJ22RB",
    "outputId": "7297834d-7250-4df7-8b9f-0d16f973c0cf"
   },
   "outputs": [
    {
     "name": "stdout",
     "output_type": "stream",
     "text": [
      "Tomorrow's SEC price : 420    58049.836551\n",
      "Name: 종가, dtype: float64 KRW\n"
     ]
    }
   ],
   "source": [
    "# raw_df.close[-1] : dfy.close[-1] = x : pred_y[-1]\n",
    "print(\"Tomorrow's SEC price :\", raw_df['종가'].iloc[-1] * pred_y[-1] / dfy1[-1:], 'KRW')"
   ]
  },
  {
   "cell_type": "code",
   "execution_count": 26,
   "metadata": {
    "colab": {
     "base_uri": "https://localhost:8080/",
     "height": 417
    },
    "id": "TJcG1I0P2_Ku",
    "outputId": "ea4a3b9d-ab48-4f7a-826e-f1f84f808235"
   },
   "outputs": [
    {
     "data": {
      "text/html": [
       "<div>\n",
       "<style scoped>\n",
       "    .dataframe tbody tr th:only-of-type {\n",
       "        vertical-align: middle;\n",
       "    }\n",
       "\n",
       "    .dataframe tbody tr th {\n",
       "        vertical-align: top;\n",
       "    }\n",
       "\n",
       "    .dataframe thead th {\n",
       "        text-align: right;\n",
       "    }\n",
       "</style>\n",
       "<table border=\"1\" class=\"dataframe\">\n",
       "  <thead>\n",
       "    <tr style=\"text-align: right;\">\n",
       "      <th></th>\n",
       "      <th>시가</th>\n",
       "      <th>고가</th>\n",
       "      <th>저가</th>\n",
       "      <th>거래량</th>\n",
       "      <th>종가</th>\n",
       "    </tr>\n",
       "  </thead>\n",
       "  <tbody>\n",
       "    <tr>\n",
       "      <th>0</th>\n",
       "      <td>0.633401</td>\n",
       "      <td>0.646825</td>\n",
       "      <td>0.601610</td>\n",
       "      <td>0.595060</td>\n",
       "      <td>0.579158</td>\n",
       "    </tr>\n",
       "    <tr>\n",
       "      <th>1</th>\n",
       "      <td>0.617108</td>\n",
       "      <td>0.619048</td>\n",
       "      <td>0.605634</td>\n",
       "      <td>0.316465</td>\n",
       "      <td>0.607214</td>\n",
       "    </tr>\n",
       "    <tr>\n",
       "      <th>2</th>\n",
       "      <td>0.617108</td>\n",
       "      <td>0.603175</td>\n",
       "      <td>0.565392</td>\n",
       "      <td>0.198390</td>\n",
       "      <td>0.539078</td>\n",
       "    </tr>\n",
       "    <tr>\n",
       "      <th>3</th>\n",
       "      <td>0.580448</td>\n",
       "      <td>0.559524</td>\n",
       "      <td>0.553320</td>\n",
       "      <td>0.160765</td>\n",
       "      <td>0.567134</td>\n",
       "    </tr>\n",
       "    <tr>\n",
       "      <th>4</th>\n",
       "      <td>0.592668</td>\n",
       "      <td>0.579365</td>\n",
       "      <td>0.577465</td>\n",
       "      <td>0.100000</td>\n",
       "      <td>0.555110</td>\n",
       "    </tr>\n",
       "    <tr>\n",
       "      <th>...</th>\n",
       "      <td>...</td>\n",
       "      <td>...</td>\n",
       "      <td>...</td>\n",
       "      <td>...</td>\n",
       "      <td>...</td>\n",
       "    </tr>\n",
       "    <tr>\n",
       "      <th>416</th>\n",
       "      <td>0.881874</td>\n",
       "      <td>0.916667</td>\n",
       "      <td>0.891348</td>\n",
       "      <td>0.168830</td>\n",
       "      <td>0.931864</td>\n",
       "    </tr>\n",
       "    <tr>\n",
       "      <th>417</th>\n",
       "      <td>0.995927</td>\n",
       "      <td>0.968254</td>\n",
       "      <td>0.971831</td>\n",
       "      <td>0.196653</td>\n",
       "      <td>0.955912</td>\n",
       "    </tr>\n",
       "    <tr>\n",
       "      <th>418</th>\n",
       "      <td>1.000000</td>\n",
       "      <td>1.000000</td>\n",
       "      <td>1.000000</td>\n",
       "      <td>0.137469</td>\n",
       "      <td>1.000000</td>\n",
       "    </tr>\n",
       "    <tr>\n",
       "      <th>419</th>\n",
       "      <td>1.000000</td>\n",
       "      <td>0.984127</td>\n",
       "      <td>0.979879</td>\n",
       "      <td>0.114009</td>\n",
       "      <td>0.959920</td>\n",
       "    </tr>\n",
       "    <tr>\n",
       "      <th>420</th>\n",
       "      <td>0.938900</td>\n",
       "      <td>0.992063</td>\n",
       "      <td>0.947686</td>\n",
       "      <td>0.185040</td>\n",
       "      <td>0.995992</td>\n",
       "    </tr>\n",
       "  </tbody>\n",
       "</table>\n",
       "<p>421 rows × 5 columns</p>\n",
       "</div>"
      ],
      "text/plain": [
       "           시가        고가        저가       거래량        종가\n",
       "0    0.633401  0.646825  0.601610  0.595060  0.579158\n",
       "1    0.617108  0.619048  0.605634  0.316465  0.607214\n",
       "2    0.617108  0.603175  0.565392  0.198390  0.539078\n",
       "3    0.580448  0.559524  0.553320  0.160765  0.567134\n",
       "4    0.592668  0.579365  0.577465  0.100000  0.555110\n",
       "..        ...       ...       ...       ...       ...\n",
       "416  0.881874  0.916667  0.891348  0.168830  0.931864\n",
       "417  0.995927  0.968254  0.971831  0.196653  0.955912\n",
       "418  1.000000  1.000000  1.000000  0.137469  1.000000\n",
       "419  1.000000  0.984127  0.979879  0.114009  0.959920\n",
       "420  0.938900  0.992063  0.947686  0.185040  0.995992\n",
       "\n",
       "[421 rows x 5 columns]"
      ]
     },
     "execution_count": 26,
     "metadata": {
      "tags": []
     },
     "output_type": "execute_result"
    }
   ],
   "source": [
    "dfx1"
   ]
  },
  {
   "cell_type": "code",
   "execution_count": null,
   "metadata": {
    "colab": {
     "base_uri": "https://localhost:8080/"
    },
    "id": "od6_Khfp3l6u",
    "outputId": "e594c3e5-f59b-4468-e1e7-edaebc83b547"
   },
   "outputs": [
    {
     "data": {
      "text/plain": [
       "0      0.579158\n",
       "1      0.607214\n",
       "2      0.539078\n",
       "3      0.567134\n",
       "4      0.555110\n",
       "         ...   \n",
       "416    0.931864\n",
       "417    0.955912\n",
       "418    1.000000\n",
       "419    0.959920\n",
       "420    0.995992\n",
       "Name: 종가, Length: 421, dtype: float64"
      ]
     },
     "execution_count": 89,
     "metadata": {
      "tags": []
     },
     "output_type": "execute_result"
    }
   ],
   "source": [
    "dfy1"
   ]
  },
  {
   "cell_type": "code",
   "execution_count": null,
   "metadata": {
    "id": "vV8fBCpL-I1K"
   },
   "outputs": [],
   "source": []
  }
 ],
 "metadata": {
  "colab": {
   "collapsed_sections": [],
   "name": "주가딥러닝.ipynb",
   "provenance": []
  },
  "kernelspec": {
   "display_name": "Python 3",
   "language": "python",
   "name": "python3"
  },
  "language_info": {
   "codemirror_mode": {
    "name": "ipython",
    "version": 3
   },
   "file_extension": ".py",
   "mimetype": "text/x-python",
   "name": "python",
   "nbconvert_exporter": "python",
   "pygments_lexer": "ipython3",
   "version": "3.8.5"
  }
 },
 "nbformat": 4,
 "nbformat_minor": 1
}
