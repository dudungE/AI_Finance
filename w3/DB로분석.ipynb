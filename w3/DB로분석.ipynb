{
 "cells": [
  {
   "cell_type": "code",
   "execution_count": 1,
   "id": "iraqi-virgin",
   "metadata": {},
   "outputs": [],
   "source": [
    "import numpy as np\n",
    "import pandas as pd\n",
    "import matplotlib.pyplot as plt\n",
    "from Investar import Analyzer"
   ]
  },
  {
   "cell_type": "code",
   "execution_count": null,
   "id": "matched-promise",
   "metadata": {},
   "outputs": [],
   "source": [
    "mk = Analyzer.MarketDB()\n",
    "stocks = ['삼성전자', 'SK하이닉스', '현대자동차', 'NAVER']\n",
    "df = pd.DataFrame()\n",
    "for s in stocks:\n",
    "    df[s] = mk.get_daily_price(s, '2016-01-04', '2018-04-27')['close']"
   ]
  },
  {
   "cell_type": "code",
   "execution_count": null,
   "id": "promotional-philadelphia",
   "metadata": {},
   "outputs": [],
   "source": []
  },
  {
   "cell_type": "code",
   "execution_count": null,
   "id": "derived-kitty",
   "metadata": {},
   "outputs": [],
   "source": []
  }
 ],
 "metadata": {
  "kernelspec": {
   "display_name": "Python 3",
   "language": "python",
   "name": "python3"
  },
  "language_info": {
   "codemirror_mode": {
    "name": "ipython",
    "version": 3
   },
   "file_extension": ".py",
   "mimetype": "text/x-python",
   "name": "python",
   "nbconvert_exporter": "python",
   "pygments_lexer": "ipython3",
   "version": "3.8.5"
  }
 },
 "nbformat": 4,
 "nbformat_minor": 5
}
